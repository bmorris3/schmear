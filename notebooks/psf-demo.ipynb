{
 "cells": [
  {
   "cell_type": "code",
   "execution_count": null,
   "id": "73b5e89d-e92a-44d1-a9eb-ccec71805aca",
   "metadata": {
    "tags": []
   },
   "outputs": [],
   "source": [
    "from glob import glob\n",
    "import pickle\n",
    "\n",
    "def load_results(path):\n",
    "    with open(path, 'rb') as p: \n",
    "        result = pickle.load(p)\n",
    "    return result\n",
    "\n",
    "paths = sorted(glob('../outputs/*.pkl'))\n",
    "path = paths[-1]"
   ]
  },
  {
   "cell_type": "code",
   "execution_count": null,
   "id": "02353d97-12c6-4b48-ac00-0495691902f4",
   "metadata": {},
   "outputs": [],
   "source": [
    "import os\n",
    "\n",
    "\n",
    "os.chdir('../')\n",
    "result = load_results(path[3:])\n",
    "result.oversample = 12\n",
    "result.construct_image(overwrite=False)\n",
    "result.construct_grid_model(overwrite=False)\n",
    "result.fit_psf()"
   ]
  },
  {
   "cell_type": "code",
   "execution_count": null,
   "id": "f63e671c-300f-4908-b275-ef7e217ead63",
   "metadata": {
    "tags": []
   },
   "outputs": [],
   "source": [
    "from astropy.modeling.fitting import LevMarLSQFitter\n",
    "from astropy.nddata import CCDData, StdDevUncertainty\n",
    "from astropy.table import Table\n",
    "import astropy.units as u\n",
    "\n",
    "from photutils.psf import SourceGrouper, PSFPhotometry\n",
    "from photutils.background import LocalBackground\n",
    "from photutils.detection import DAOStarFinder\n",
    "\n",
    "\n",
    "grouper = SourceGrouper(min_separation=result.crit_separation)\n",
    "fitter = LevMarLSQFitter(calc_uncertainties=True)\n",
    "lb = LocalBackground(\n",
    "        inner_radius=10, outer_radius=30\n",
    "    )\n",
    "\n",
    "photometry = PSFPhotometry(\n",
    "    grouper=grouper,\n",
    "    localbkg_estimator=lb,\n",
    "    psf_model=result.grid_model,\n",
    "    fitter=fitter,\n",
    "    fit_shape=result.fit_shape,\n",
    "    aperture_radius=50,\n",
    "    progress_bar=False,\n",
    ")"
   ]
  },
  {
   "cell_type": "code",
   "execution_count": null,
   "id": "41a449f2-a58c-47d9-b1fb-a302ed4d064d",
   "metadata": {
    "tags": []
   },
   "outputs": [],
   "source": [
    "import roman_datamodels.datamodels as rdd\n",
    "import matplotlib.pyplot as plt\n",
    "from astropy.visualization import simple_norm\n",
    "import numpy as np\n",
    "\n",
    "dm = rdd.open(result.path_image)\n",
    "data = dm.data\n",
    "error = dm.err\n",
    "mask = dm.dq != 0"
   ]
  },
  {
   "cell_type": "code",
   "execution_count": null,
   "id": "8cec8773-5668-49d9-8737-2d6d2207e439",
   "metadata": {
    "tags": []
   },
   "outputs": [],
   "source": [
    "flux_order = np.argsort(np.array(result.fit_results['flux_fit']))\n",
    "guesses = result.fit_results[flux_order][-3:].copy()\n",
    "guesses.remove_columns([c for c in guesses.colnames if c not in ['x_fit', 'y_fit', 'flux_fit']])\n",
    "guesses.rename_columns(['x_fit', 'y_fit', 'flux_fit'], ['x_init', 'y_init', 'flux_init'])\n",
    "phot_result = photometry(data=data.value, error=10*error.value, init_params=guesses, mask=mask)"
   ]
  },
  {
   "cell_type": "code",
   "execution_count": null,
   "id": "7c1d59a6-133f-4d3b-a47b-6437f8c73b54",
   "metadata": {
    "tags": []
   },
   "outputs": [],
   "source": [
    "model_image = photometry.make_model_image(data.value.T.shape, result.grid_model.data.shape[1:])\n",
    "residual_image = data.value - model_image\n",
    "\n",
    "max_indices = np.array(list(phot_result[['y_init', 'x_init']].itercols())).T\n",
    "\n",
    "fig, ax = plt.subplots(3, 3, figsize=(10, 10))\n",
    "\n",
    "for i, max_index in enumerate(max_indices):\n",
    "    norm = simple_norm(model_image, 'asinh', min_cut=-10, max_cut=300)\n",
    "    c = ax[i, 0].imshow(model_image, norm=norm)\n",
    "    # plt.colorbar(c, ax=ax[i, 0])\n",
    "\n",
    "    ax[i, 0].set(\n",
    "        ylim = [max_index[0] + 20, max_index[0] - 20],\n",
    "        xlim = [max_index[1] - 20, max_index[1] + 20],\n",
    "        title='model (WebbPSF+photutils)'\n",
    "    )\n",
    "\n",
    "    c = ax[i, 1].imshow(data.value, norm=norm)\n",
    "    # plt.colorbar(c, ax=ax[i, 1])\n",
    "\n",
    "    ax[i, 1].set(\n",
    "        ylim = [max_index[0] + 20, max_index[0] - 20],\n",
    "        xlim = [max_index[1] - 20, max_index[1] + 20],\n",
    "        title='obs (romanisim)'\n",
    "    )\n",
    "\n",
    "    c = ax[i, 2].imshow(residual_image, norm=norm)\n",
    "\n",
    "    ax[i, 2].set(\n",
    "        title='residual',\n",
    "        ylim = [max_index[0] + 20, max_index[0] - 20],\n",
    "        xlim = [max_index[1] - 20, max_index[1] + 20],\n",
    "    )\n",
    "\n",
    "fig.tight_layout()\n",
    "fig.savefig('plots/psf_residuals.png', bbox_inches='tight', dpi=200)\n",
    "plt.show()"
   ]
  },
  {
   "cell_type": "code",
   "execution_count": null,
   "id": "4168cd0b-e2ee-4f36-8e40-7832c1a27ccb",
   "metadata": {},
   "outputs": [],
   "source": []
  }
 ],
 "metadata": {
  "kernelspec": {
   "display_name": "Python 3 (ipykernel)",
   "language": "python",
   "name": "python3"
  },
  "language_info": {
   "codemirror_mode": {
    "name": "ipython",
    "version": 3
   },
   "file_extension": ".py",
   "mimetype": "text/x-python",
   "name": "python",
   "nbconvert_exporter": "python",
   "pygments_lexer": "ipython3",
   "version": "3.11.3"
  }
 },
 "nbformat": 4,
 "nbformat_minor": 5
}
