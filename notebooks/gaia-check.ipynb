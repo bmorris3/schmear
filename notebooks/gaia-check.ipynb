{
 "cells": [
  {
   "cell_type": "code",
   "execution_count": null,
   "id": "ffa8d1cc-2426-4949-8eec-a694884b4a37",
   "metadata": {
    "tags": []
   },
   "outputs": [],
   "source": [
    "%matplotlib inline\n",
    "import numpy as np\n",
    "import matplotlib.pyplot as plt\n",
    "from astroquery.gaia import Gaia\n",
    "import astropy.units as u\n",
    "from astropy.coordinates import SkyCoord\n",
    "\n",
    "Gaia.MAIN_GAIA_TABLE = \"gaiadr3.gaia_source\"  # Reselect Data Release 3, default\n",
    "Gaia.ROW_LIMIT = -1"
   ]
  },
  {
   "cell_type": "code",
   "execution_count": null,
   "id": "fb15d568-088c-40dc-96dc-d952d143c751",
   "metadata": {
    "tags": []
   },
   "outputs": [],
   "source": [
    "pixel_scale = 0.11 * u.arcsec / u.pix\n",
    "n_pixels = 4000 * u.pix\n",
    "sca_side = n_pixels * pixel_scale"
   ]
  },
  {
   "cell_type": "code",
   "execution_count": null,
   "id": "646dae9e-84a7-42ad-8af0-4eb86b89ef0a",
   "metadata": {
    "tags": []
   },
   "outputs": [],
   "source": [
    "latitudes = np.linspace(0, 89, 5)\n",
    "coords = SkyCoord([SkyCoord(l=5, b=b, unit=u.deg, frame='galactic') for b in latitudes])"
   ]
  },
  {
   "cell_type": "code",
   "execution_count": null,
   "id": "1e293c0a-9c1e-4251-923b-a9c9e0995088",
   "metadata": {
    "tags": []
   },
   "outputs": [],
   "source": [
    "columns = ['source_id', 'ra', 'dec', 'phot_g_mean_mag', 'phot_rp_mean_mag']\n",
    "\n",
    "queries = [\n",
    "    Gaia.query_object(\n",
    "        coord, width=sca_side, height=sca_side, columns=columns\n",
    "    ) for coord in coords\n",
    "]"
   ]
  },
  {
   "cell_type": "code",
   "execution_count": null,
   "id": "fef0edc2-f324-4e79-a624-66cb04f932ae",
   "metadata": {
    "tags": []
   },
   "outputs": [],
   "source": [
    "n_sources = np.array([len(q) for q in queries])\n",
    "plt.semilogy(latitudes, n_sources, 'o-k', label='Single SCA')\n",
    "plt.semilogy(latitudes, 18 * n_sources, 'o-r', label='18 SCAs')\n",
    "plt.gca().set(\n",
    "    xlabel='Galactic latitude (deg)',\n",
    "    ylabel='Gaia sources'\n",
    ")\n",
    "plt.legend()\n",
    "plt.savefig('plots/n_sources_with_latitude.png', dpi=200, bbox_inches='tight')"
   ]
  },
  {
   "cell_type": "code",
   "execution_count": null,
   "id": "53f9a8c3-2c7a-4526-b31f-291b6184d402",
   "metadata": {
    "tags": []
   },
   "outputs": [],
   "source": [
    "center = queries[0]\n",
    "pole = queries[-1]\n",
    "\n",
    "n, edges = plt.hist((center['phot_g_mean_mag']), alpha=0.5, log=True, label='Galactic center')[:2]\n",
    "plt.hist((pole['phot_g_mean_mag']), alpha=0.5, label='Galactic pole')\n",
    "\n",
    "edges = np.array(edges)\n",
    "x = 0.5 * (edges[1:] + edges[:-1])\n",
    "\n",
    "roman_mags = np.linspace(18, 26, 100)\n",
    "fit = np.polyfit(x, np.log10(n), 1)\n",
    "\n",
    "roman_center_sources = 10**np.polyval(fit, roman_mags)\n",
    "ratio_pole_center = len(pole) / len(center)\n",
    "roman_pole_sources = ratio_pole_center * 10**np.polyval(fit, roman_mags)\n",
    "\n",
    "plt.plot(roman_mags, roman_center_sources, ls='--', color='C0', lw=2, label='Roman, center (extrapolated)')\n",
    "\n",
    "sources_in_gaia_and_roman = (\n",
    "    (roman_mags < center['phot_g_mean_mag'].max()) & \n",
    "    (roman_mags > 18)\n",
    ")\n",
    "n_sources_center_roman = np.trapz(10**np.polyval(fit, roman_mags), roman_mags)\n",
    "n_sources_center_roman_gaia = np.count_nonzero(center['phot_g_mean_mag'] > 18)\n",
    "\n",
    "plt.plot(roman_mags, roman_pole_sources, ls='--', color='C1', lw=2, label='Roman, pole (Extrapolated)')\n",
    "plt.legend()\n",
    "plt.gca().set(\n",
    "    xlabel='Gaia G [mag]',\n",
    "    ylabel='Sources per SCA'\n",
    ")\n",
    "plt.savefig('plots/n_sources.png', bbox_inches='tight', dpi=200)\n",
    "print(f'N sources per SCA in Gaia (center) = {len(center):.0f}') \n",
    "print(f'N sources per SCA in Gaia (pole) = {len(pole):.0f}') \n",
    "\n",
    "print(f'N sources per SCA in Roman (center) = {n_sources_center_roman:.0f}') \n",
    "print(f'N sources per SCA in Roman (pole) = {ratio_pole_center * n_sources_center_roman:.0f}') \n",
    "\n",
    "print(f'N sources per SCA in both Roman and Gaia (center) = {n_sources_center_roman_gaia:.0f}') \n",
    "print(f'N sources per SCA in both Roman and Gaia (pole) = {ratio_pole_center * n_sources_center_roman_gaia:.0f}') "
   ]
  },
  {
   "cell_type": "code",
   "execution_count": null,
   "id": "791c33e5-f548-4f8a-8af5-7e17e70293e8",
   "metadata": {},
   "outputs": [],
   "source": []
  }
 ],
 "metadata": {
  "kernelspec": {
   "display_name": "Python 3 (ipykernel)",
   "language": "python",
   "name": "python3"
  },
  "language_info": {
   "codemirror_mode": {
    "name": "ipython",
    "version": 3
   },
   "file_extension": ".py",
   "mimetype": "text/x-python",
   "name": "python",
   "nbconvert_exporter": "python",
   "pygments_lexer": "ipython3",
   "version": "3.11.3"
  }
 },
 "nbformat": 4,
 "nbformat_minor": 5
}
